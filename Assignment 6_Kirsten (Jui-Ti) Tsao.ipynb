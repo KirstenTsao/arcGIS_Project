{
 "cells": [
  {
   "cell_type": "code",
   "execution_count": 2,
   "id": "e9135826",
   "metadata": {
    "collapsed": true
   },
   "outputs": [
    {
     "name": "stdout",
     "output_type": "stream",
     "text": [
      "Please sign in to your GIS and paste the code that is obtained below.\n",
      "If a web browser does not automatically open, please navigate to the URL below yourself instead.\n",
      "Opening web browser to navigate to: https://utoronto.maps.arcgis.com/sharing/rest//oauth2/authorize?response_type=code&client_id=WJe5ZIzYAlY68kln&redirect_uri=urn%3Aietf%3Awg%3Aoauth%3A2.0%3Aoob&state=N3EVl1YDXGlveRInVC6ab6vpTdZy9i\n",
      "Enter code obtained on signing in using SAML: ········\n"
     ]
    },
    {
     "name": "stderr",
     "output_type": "stream",
     "text": [
      "C:\\Users\\kirst\\anaconda3\\lib\\site-packages\\urllib3\\connectionpool.py:1013: InsecureRequestWarning: Unverified HTTPS request is being made to host 'utoronto.maps.arcgis.com'. Adding certificate verification is strongly advised. See: https://urllib3.readthedocs.io/en/latest/advanced-usage.html#ssl-warnings\n",
      "  warnings.warn(\n"
     ]
    },
    {
     "name": "stdout",
     "output_type": "stream",
     "text": [
      "Successfully logged in as: tsaojuit_utoronto\n"
     ]
    },
    {
     "data": {
      "text/html": [
       "GIS @ <a href=\"https://utoronto.maps.arcgis.com\">https://utoronto.maps.arcgis.com</a>"
      ],
      "text/plain": [
       "GIS @ https://utoronto.maps.arcgis.com version:9.2"
      ]
     },
     "execution_count": 2,
     "metadata": {},
     "output_type": "execute_result"
    }
   ],
   "source": [
    "#Connect to GIS server\n",
    "def ConnectServer():\n",
    "    from arcgis.gis import GIS\n",
    "    gis = GIS(\"https://utoronto.maps.arcgis.com\",client_id=\"WJe5ZIzYAlY68kln\")\n",
    "    print(\"Successfully logged in as: \" + gis.properties.user.username)\n",
    "    return gis\n",
    "\n",
    "ConnectServer()"
   ]
  },
  {
   "cell_type": "code",
   "execution_count": 3,
   "id": "cd565cf7",
   "metadata": {
    "scrolled": false
   },
   "outputs": [
    {
     "data": {
      "text/plain": [
       "<FeatureLayer url:\"https://services1.arcgis.com/0MSEUqKaxRlEPj5g/arcgis/rest/services/Coronavirus_2019_nCoV_Cases/FeatureServer/1\">"
      ]
     },
     "execution_count": 3,
     "metadata": {},
     "output_type": "execute_result"
    }
   ],
   "source": [
    "#Choose a geography that you’re interested and have that sufficient cases/geographic area to make an interesting visualization. \n",
    "def ChooseGeo():\n",
    "    from io import BytesIO\n",
    "    import requests\n",
    "    import pandas as pd\n",
    "    from arcgis.features import FeatureLayer\n",
    "    from arcgis.gis import GIS\n",
    "    from arcgis.mapping import WebMap\n",
    "    src_url = \"https://services1.arcgis.com/0MSEUqKaxRlEPj5g/arcgis/rest/services/Coronavirus_2019_nCoV_Cases/FeatureServer/1\"\n",
    "    fl = FeatureLayer(url=src_url)\n",
    "    #fset_can = fl.query(where=\"Country_Region='Canada'\")\n",
    "    #provinces_item=gis.content.get('d3fef65386df4e63b02d6e23bb98a1ee')\n",
    "    #provinces_flayer = provinces_item.layers[0]\n",
    "    #provinces_df = provinces_flayer.query(as_df=True)\n",
    "    #tmp = provinces_df.sort_values('Name_EN', ascending=True)\n",
    "    #provinces_df = tmp.drop_duplicates(subset='Name_EN', keep='last')\n",
    "    #df_canada = fset_can.sdf[['Province_State', 'Confirmed', 'Recovered', 'Deaths']]\n",
    "    #df_canada = df_canada.assign(Name_EN = df_canada[\"Province_State\"])\n",
    "    #cols_2 = ['Name_EN', 'postal', 'type_en','Shape_Leng','Shape_Area','SHAPE']\n",
    "    #overlap_rows_canada = pd.merge(left = provinces_df[cols_2], right = df_canada, how='inner', on = 'Name_EN')\n",
    "    return fl\n",
    "\n",
    "ChooseGeo()"
   ]
  },
  {
   "cell_type": "code",
   "execution_count": 6,
   "id": "e722410c",
   "metadata": {
    "collapsed": true
   },
   "outputs": [
    {
     "name": "stdout",
     "output_type": "stream",
     "text": [
      "Please sign in to your GIS and paste the code that is obtained below.\n",
      "If a web browser does not automatically open, please navigate to the URL below yourself instead.\n",
      "Opening web browser to navigate to: https://utoronto.maps.arcgis.com/sharing/rest//oauth2/authorize?response_type=code&client_id=WJe5ZIzYAlY68kln&redirect_uri=urn%3Aietf%3Awg%3Aoauth%3A2.0%3Aoob&state=GW9l4aF5spP1FLZdgRnAtvQki2d1jf\n",
      "Enter code obtained on signing in using SAML: ········\n"
     ]
    },
    {
     "name": "stderr",
     "output_type": "stream",
     "text": [
      "C:\\Users\\kirst\\anaconda3\\lib\\site-packages\\urllib3\\connectionpool.py:1013: InsecureRequestWarning: Unverified HTTPS request is being made to host 'utoronto.maps.arcgis.com'. Adding certificate verification is strongly advised. See: https://urllib3.readthedocs.io/en/latest/advanced-usage.html#ssl-warnings\n",
      "  warnings.warn(\n"
     ]
    },
    {
     "name": "stdout",
     "output_type": "stream",
     "text": [
      "Successfully logged in as: tsaojuit_utoronto\n"
     ]
    },
    {
     "data": {
      "application/vnd.jupyter.widget-view+json": {
       "model_id": "e4d6e406b15d4a18a750d6f7aa61d482",
       "version_major": 2,
       "version_minor": 0
      },
      "text/plain": [
       "MapView(layout=Layout(height='400px', width='100%'))"
      ]
     },
     "metadata": {},
     "output_type": "display_data"
    },
    {
     "data": {
      "text/html": [
       "<div class=\"map-static-img-preview-e34cd8a8-b31f-4d84-a1a1-ffe0fa72b0c7\"><img src=\"\"></img></div>"
      ],
      "text/plain": [
       "<IPython.core.display.HTML object>"
      ]
     },
     "metadata": {},
     "output_type": "display_data"
    },
    {
     "data": {
      "text/html": [
       "<div class=\"map-html-embed-preview-e34cd8a8-b31f-4d84-a1a1-ffe0fa72b0c7\"></div>"
      ],
      "text/plain": [
       "<IPython.core.display.HTML object>"
      ]
     },
     "metadata": {},
     "output_type": "display_data"
    }
   ],
   "source": [
    "#Map1\n",
    "def Map1(gis, fl):\n",
    "    map1 = gis.map('Canada', zoomlevel=4)\n",
    "    map1.add_layer(fl,   { \"type\": \"FeatureLayer\",\n",
    "                           \"renderer\":\"ClassedSizeRenderer\",\n",
    "                           \"field_name\":\"Confirmed\"})\n",
    "    return map1\n",
    "\n",
    "Map1(ConnectServer(), ChooseGeo())"
   ]
  },
  {
   "cell_type": "code",
   "execution_count": null,
   "id": "f010e91c",
   "metadata": {},
   "outputs": [],
   "source": [
    "#Map2\n"
   ]
  }
 ],
 "metadata": {
  "kernelspec": {
   "display_name": "Python 3",
   "language": "python",
   "name": "python3"
  },
  "language_info": {
   "codemirror_mode": {
    "name": "ipython",
    "version": 3
   },
   "file_extension": ".py",
   "mimetype": "text/x-python",
   "name": "python",
   "nbconvert_exporter": "python",
   "pygments_lexer": "ipython3",
   "version": "3.8.8"
  }
 },
 "nbformat": 4,
 "nbformat_minor": 5
}
